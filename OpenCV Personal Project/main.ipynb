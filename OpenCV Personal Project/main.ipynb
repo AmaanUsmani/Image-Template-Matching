{
 "cells": [
  {
   "cell_type": "code",
   "execution_count": 61,
   "metadata": {},
   "outputs": [],
   "source": [
    "import numpy as np\n",
    "import cv2"
   ]
  },
  {
   "cell_type": "code",
   "execution_count": 62,
   "metadata": {},
   "outputs": [],
   "source": [
    "kitchen_img = cv2.imread('kitchen.png',)\n",
    "vase_img = cv2.imread('bluevase.PNG', cv2.IMREAD_GRAYSCALE)\n",
    "gray_img = cv2.cvtColor(kitchen_img, cv2.COLOR_BGR2GRAY)\n",
    "w, h = vase_img.shape[::-1]\n"
   ]
  },
  {
   "cell_type": "code",
   "execution_count": 63,
   "metadata": {},
   "outputs": [
    {
     "name": "stdout",
     "output_type": "stream",
     "text": [
      "(array([243, 243, 243, 244, 244, 244, 244, 245, 973, 973, 974, 974, 974,\n",
      "       975, 975, 975, 975, 976, 976, 976, 976, 977, 977, 977, 977, 978,\n",
      "       978, 978, 978, 979, 979, 979], dtype=int64), array([1032, 1033, 1034, 1031, 1032, 1033, 1034, 1033,  273,  274,  272,\n",
      "        273,  274,  271,  272,  273,  274,  270,  271,  272,  273,  270,\n",
      "        271,  272,  273,  269,  270,  271,  272,  269,  270,  271],\n",
      "      dtype=int64))\n"
     ]
    }
   ],
   "source": [
    "res = cv2.matchTemplate(gray_img, vase_img, cv2.TM_CCOEFF_NORMED)\n",
    "loc = np.where(res >= 0.72)\n",
    "print(loc)"
   ]
  },
  {
   "cell_type": "code",
   "execution_count": 64,
   "metadata": {},
   "outputs": [],
   "source": [
    "for pt in zip(*loc[::-1]):\n",
    "    cv2.rectangle(kitchen_img, pt, (pt[0] + w, pt[1] + h), (0, 255, 0), 3)\n"
   ]
  },
  {
   "cell_type": "code",
   "execution_count": 65,
   "metadata": {},
   "outputs": [],
   "source": [
    "cv2.imshow(\"img\", kitchen_img)\n",
    "cv2.waitKey()\n",
    "cv2.destroyAllWindows()"
   ]
  }
 ],
 "metadata": {
  "kernelspec": {
   "display_name": "Python 3.9.12 ('base')",
   "language": "python",
   "name": "python3"
  },
  "language_info": {
   "codemirror_mode": {
    "name": "ipython",
    "version": 3
   },
   "file_extension": ".py",
   "mimetype": "text/x-python",
   "name": "python",
   "nbconvert_exporter": "python",
   "pygments_lexer": "ipython3",
   "version": "3.9.12"
  },
  "orig_nbformat": 4,
  "vscode": {
   "interpreter": {
    "hash": "b09ec625f77bf4fd762565a912b97636504ad6ec901eb2d0f4cf5a7de23e1ee5"
   }
  }
 },
 "nbformat": 4,
 "nbformat_minor": 2
}
